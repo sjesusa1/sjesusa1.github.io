{
 "cells": [
  {
   "cell_type": "markdown",
   "metadata": {},
   "source": [
    "Link to the live webpage: https://sjesusa1.github.io/\n",
    "## Milestone 1 - Factors of Song Popularity \n",
    "\n",
    "### Sara Jesusa"
   ]
  },
  {
   "cell_type": "markdown",
   "metadata": {},
   "source": [
    "### Possible Sources of Data\n",
    "1. Top Spotify Songs (2010 - 2019): https://www.kaggle.com/leonardopena/top-spotify-songs-from-20102019-by-year\n",
    "2. Top 50 Spotify Songs By Each Country (2019):\n",
    "https://www.kaggle.com/leonardopena/top-50-spotify-songs-by-each-country\n",
    "3. 100 Top Tracks of 2019 from BillBoard: https://www.kaggle.com/afirium/top-100-tracks-of-2019\n",
    "4. Data on Songs from Billboard(1999 - 2019)\n",
    "https://www.kaggle.com/danield2255/data-on-songs-from-billboard-19992019"
   ]
  },
  {
   "cell_type": "markdown",
   "metadata": {},
   "source": [
    "### Project Plan\n",
    "On January 4, 1936, Billboard magazine published its first list of the most popular songs based on their sales, radio airplay, digital downloading and online streaming, such as YouTube.  Each week since then, Billboard magazine has been charting the popularity of the top 100 songs in the U.S.. Similarly, Spotify, one of the leading music streaming apps of today, also compiles a yearly list of top songs based on the number of times the song was streamed by the user. \n",
    "\n",
    "With the pressure to make it into the top hits, record companies try to create music that might appeal to a large audience; however, it is difficult to understand what certain aspects of a song makes it a top hit. \n",
    "\n",
    "For this project, I will be providing a data science analysis on data sets of top songs collected by Billboard and Spotify from various years to find different correlates of successful songs in order to determine what key qualities a song needs to become a hit.  "
   ]
  },
  {
   "cell_type": "markdown",
   "metadata": {},
   "source": [
    "### Exploring the Data:\n",
    "This project will help understand how audio features play a role in the popularity of a song. The data set present can be used to find the correlation between audio features and song popularity by plotting the audio features vs. song popularity and using data visualization.\n",
    "1. What common characteristics do popular songs share?\n",
    "2. Are male artists featured more that women in popular songs? \n",
    "3. What is the most prominent genre?\n",
    "4. How did the popularity of genres change over time?\n",
    "5. Which song characteristics has a strong correlation with song popularity?\n",
    "6. What kind of songs does the general public enjoy more and enjoy least?"
   ]
  },
  {
   "cell_type": "markdown",
   "metadata": {},
   "source": [
    "### Tools Needed \n",
    "Python libraries:\n",
    "    1. Data Analysis Libraries: numpy, pandas\n",
    "    2. Visualization Libraries: matplotlib.pyplot, seaborn"
   ]
  },
  {
   "cell_type": "markdown",
   "metadata": {},
   "source": [
    "#### Importing Necessary Libraries and Setting up Environment:"
   ]
  },
  {
   "cell_type": "code",
   "execution_count": 2,
   "metadata": {},
   "outputs": [],
   "source": [
    "#data analysis libraries \n",
    "import numpy as np\n",
    "import pandas as pd\n",
    "\n",
    "#visualization libraries\n",
    "import matplotlib.pyplot as plt\n",
    "import seaborn as sns\n",
    "%matplotlib inline"
   ]
  },
  {
   "cell_type": "markdown",
   "metadata": {},
   "source": [
    "### Data: Extraction, Transform, and Load\n",
    "#### Extraction \n",
    "I found the data that I needed was already provided in a dataset on Kaggle as \"Top Spotify songs from 2010-2019 - BY YEAR\" by Leonardo Henrique. I checked the data and found that it was already tidy and no validation errors. The dataset was extracted from Spotify and Billboard and organized by Spotify Organize Your Music: http://organizeyourmusic.playlistmachinery.com/. The data set included my target variable, the popularity score of each song, and explanatory variables, audio features, which include beats per minute (BPM), danceability, loudness, energy, valence, and duration. It also included general characteristics, such as the genre, the title, the artists, and the year the song was released. "
   ]
  },
  {
   "cell_type": "markdown",
   "metadata": {},
   "source": [
    "#### Load"
   ]
  },
  {
   "cell_type": "code",
   "execution_count": 4,
   "metadata": {},
   "outputs": [
    {
     "data": {
      "text/html": [
       "<style>.container { width:95% !important; }</style>"
      ],
      "text/plain": [
       "<IPython.core.display.HTML object>"
      ]
     },
     "metadata": {},
     "output_type": "display_data"
    },
    {
     "data": {
      "text/html": [
       "<div>\n",
       "<style scoped>\n",
       "    .dataframe tbody tr th:only-of-type {\n",
       "        vertical-align: middle;\n",
       "    }\n",
       "\n",
       "    .dataframe tbody tr th {\n",
       "        vertical-align: top;\n",
       "    }\n",
       "\n",
       "    .dataframe thead th {\n",
       "        text-align: right;\n",
       "    }\n",
       "</style>\n",
       "<table border=\"1\" class=\"dataframe\">\n",
       "  <thead>\n",
       "    <tr style=\"text-align: right;\">\n",
       "      <th></th>\n",
       "      <th>Unnamed: 0</th>\n",
       "      <th>title</th>\n",
       "      <th>artist</th>\n",
       "      <th>top genre</th>\n",
       "      <th>year</th>\n",
       "      <th>bpm</th>\n",
       "      <th>nrgy</th>\n",
       "      <th>dnce</th>\n",
       "      <th>dB</th>\n",
       "      <th>live</th>\n",
       "      <th>val</th>\n",
       "      <th>dur</th>\n",
       "      <th>acous</th>\n",
       "      <th>spch</th>\n",
       "      <th>pop</th>\n",
       "    </tr>\n",
       "  </thead>\n",
       "  <tbody>\n",
       "    <tr>\n",
       "      <th>0</th>\n",
       "      <td>1</td>\n",
       "      <td>Hey, Soul Sister</td>\n",
       "      <td>Train</td>\n",
       "      <td>neo mellow</td>\n",
       "      <td>2010</td>\n",
       "      <td>97</td>\n",
       "      <td>89</td>\n",
       "      <td>67</td>\n",
       "      <td>-4</td>\n",
       "      <td>8</td>\n",
       "      <td>80</td>\n",
       "      <td>217</td>\n",
       "      <td>19</td>\n",
       "      <td>4</td>\n",
       "      <td>83</td>\n",
       "    </tr>\n",
       "    <tr>\n",
       "      <th>1</th>\n",
       "      <td>2</td>\n",
       "      <td>Love The Way You Lie</td>\n",
       "      <td>Eminem</td>\n",
       "      <td>detroit hip hop</td>\n",
       "      <td>2010</td>\n",
       "      <td>87</td>\n",
       "      <td>93</td>\n",
       "      <td>75</td>\n",
       "      <td>-5</td>\n",
       "      <td>52</td>\n",
       "      <td>64</td>\n",
       "      <td>263</td>\n",
       "      <td>24</td>\n",
       "      <td>23</td>\n",
       "      <td>82</td>\n",
       "    </tr>\n",
       "    <tr>\n",
       "      <th>2</th>\n",
       "      <td>3</td>\n",
       "      <td>TiK ToK</td>\n",
       "      <td>Kesha</td>\n",
       "      <td>dance pop</td>\n",
       "      <td>2010</td>\n",
       "      <td>120</td>\n",
       "      <td>84</td>\n",
       "      <td>76</td>\n",
       "      <td>-3</td>\n",
       "      <td>29</td>\n",
       "      <td>71</td>\n",
       "      <td>200</td>\n",
       "      <td>10</td>\n",
       "      <td>14</td>\n",
       "      <td>80</td>\n",
       "    </tr>\n",
       "    <tr>\n",
       "      <th>3</th>\n",
       "      <td>4</td>\n",
       "      <td>Bad Romance</td>\n",
       "      <td>Lady Gaga</td>\n",
       "      <td>dance pop</td>\n",
       "      <td>2010</td>\n",
       "      <td>119</td>\n",
       "      <td>92</td>\n",
       "      <td>70</td>\n",
       "      <td>-4</td>\n",
       "      <td>8</td>\n",
       "      <td>71</td>\n",
       "      <td>295</td>\n",
       "      <td>0</td>\n",
       "      <td>4</td>\n",
       "      <td>79</td>\n",
       "    </tr>\n",
       "    <tr>\n",
       "      <th>4</th>\n",
       "      <td>5</td>\n",
       "      <td>Just the Way You Are</td>\n",
       "      <td>Bruno Mars</td>\n",
       "      <td>pop</td>\n",
       "      <td>2010</td>\n",
       "      <td>109</td>\n",
       "      <td>84</td>\n",
       "      <td>64</td>\n",
       "      <td>-5</td>\n",
       "      <td>9</td>\n",
       "      <td>43</td>\n",
       "      <td>221</td>\n",
       "      <td>2</td>\n",
       "      <td>4</td>\n",
       "      <td>78</td>\n",
       "    </tr>\n",
       "  </tbody>\n",
       "</table>\n",
       "</div>"
      ],
      "text/plain": [
       "   Unnamed: 0                 title      artist        top genre  year  bpm  nrgy  dnce  dB  live  val  dur  acous  spch  pop\n",
       "0           1      Hey, Soul Sister       Train       neo mellow  2010   97    89    67  -4     8   80  217     19     4   83\n",
       "1           2  Love The Way You Lie      Eminem  detroit hip hop  2010   87    93    75  -5    52   64  263     24    23   82\n",
       "2           3               TiK ToK       Kesha        dance pop  2010  120    84    76  -3    29   71  200     10    14   80\n",
       "3           4           Bad Romance   Lady Gaga        dance pop  2010  119    92    70  -4     8   71  295      0     4   79\n",
       "4           5  Just the Way You Are  Bruno Mars              pop  2010  109    84    64  -5     9   43  221      2     4   78"
      ]
     },
     "execution_count": 4,
     "metadata": {},
     "output_type": "execute_result"
    }
   ],
   "source": [
    "from IPython.core.display import display, HTML\n",
    "display(HTML(\"<style>.container { width:95% !important; }</style>\"))\n",
    "\n",
    "# Show a ludicrus number of rows and columns\n",
    "pd.options.display.max_rows = 500\n",
    "pd.options.display.max_columns = 500\n",
    "pd.options.display.width = 1000\n",
    "\n",
    "song_df = pd.read_csv(\"../data/top10s.csv\")\n",
    "song_df.head()"
   ]
  }
 ],
 "metadata": {
  "kernelspec": {
   "display_name": "Python 2",
   "language": "python",
   "name": "python2"
  },
  "language_info": {
   "codemirror_mode": {
    "name": "ipython",
    "version": 2
   },
   "file_extension": ".py",
   "mimetype": "text/x-python",
   "name": "python",
   "nbconvert_exporter": "python",
   "pygments_lexer": "ipython2",
   "version": "2.7.16"
  }
 },
 "nbformat": 4,
 "nbformat_minor": 2
}
